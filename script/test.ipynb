{
 "cells": [
  {
   "cell_type": "code",
   "execution_count": 6,
   "id": "98127fe7-205e-4989-b630-ad5620c139e7",
   "metadata": {},
   "outputs": [
    {
     "name": "stdout",
     "output_type": "stream",
     "text": [
      "Requirement already satisfied: websockets in /Users/mathieurio/.pyenv/versions/3.11.6/lib/python3.11/site-packages (15.0.1)\n",
      "\n",
      "\u001b[1m[\u001b[0m\u001b[34;49mnotice\u001b[0m\u001b[1;39;49m]\u001b[0m\u001b[39;49m A new release of pip is available: \u001b[0m\u001b[31;49m23.2.1\u001b[0m\u001b[39;49m -> \u001b[0m\u001b[32;49m25.0.1\u001b[0m\n",
      "\u001b[1m[\u001b[0m\u001b[34;49mnotice\u001b[0m\u001b[1;39;49m]\u001b[0m\u001b[39;49m To update, run: \u001b[0m\u001b[32;49mpip install --upgrade pip\u001b[0m\n",
      "\u001b[31mERROR: Could not find a version that satisfies the requirement sys (from versions: none)\u001b[0m\u001b[31m\n",
      "\u001b[0m\u001b[31mERROR: No matching distribution found for sys\u001b[0m\u001b[31m\n",
      "\u001b[0m\n",
      "\u001b[1m[\u001b[0m\u001b[34;49mnotice\u001b[0m\u001b[1;39;49m]\u001b[0m\u001b[39;49m A new release of pip is available: \u001b[0m\u001b[31;49m23.2.1\u001b[0m\u001b[39;49m -> \u001b[0m\u001b[32;49m25.0.1\u001b[0m\n",
      "\u001b[1m[\u001b[0m\u001b[34;49mnotice\u001b[0m\u001b[1;39;49m]\u001b[0m\u001b[39;49m To update, run: \u001b[0m\u001b[32;49mpip install --upgrade pip\u001b[0m\n",
      "\u001b[31mERROR: Could not find a version that satisfies the requirement time (from versions: none)\u001b[0m\u001b[31m\n",
      "\u001b[0m\u001b[31mERROR: No matching distribution found for time\u001b[0m\u001b[31m\n",
      "\u001b[0m\n",
      "\u001b[1m[\u001b[0m\u001b[34;49mnotice\u001b[0m\u001b[1;39;49m]\u001b[0m\u001b[39;49m A new release of pip is available: \u001b[0m\u001b[31;49m23.2.1\u001b[0m\u001b[39;49m -> \u001b[0m\u001b[32;49m25.0.1\u001b[0m\n",
      "\u001b[1m[\u001b[0m\u001b[34;49mnotice\u001b[0m\u001b[1;39;49m]\u001b[0m\u001b[39;49m To update, run: \u001b[0m\u001b[32;49mpip install --upgrade pip\u001b[0m\n",
      "\u001b[31mERROR: Could not find a version that satisfies the requirement threading (from versions: none)\u001b[0m\u001b[31m\n",
      "\u001b[0m\u001b[31mERROR: No matching distribution found for threading\u001b[0m\u001b[31m\n",
      "\u001b[0m\n",
      "\u001b[1m[\u001b[0m\u001b[34;49mnotice\u001b[0m\u001b[1;39;49m]\u001b[0m\u001b[39;49m A new release of pip is available: \u001b[0m\u001b[31;49m23.2.1\u001b[0m\u001b[39;49m -> \u001b[0m\u001b[32;49m25.0.1\u001b[0m\n",
      "\u001b[1m[\u001b[0m\u001b[34;49mnotice\u001b[0m\u001b[1;39;49m]\u001b[0m\u001b[39;49m To update, run: \u001b[0m\u001b[32;49mpip install --upgrade pip\u001b[0m\n",
      "Collecting asyncio\n",
      "  Obtaining dependency information for asyncio from https://files.pythonhosted.org/packages/22/74/07679c5b9f98a7cb0fc147b1ef1cc1853bc07a4eb9cb5731e24732c5f773/asyncio-3.4.3-py3-none-any.whl.metadata\n",
      "  Downloading asyncio-3.4.3-py3-none-any.whl.metadata (1.7 kB)\n",
      "Downloading asyncio-3.4.3-py3-none-any.whl (101 kB)\n",
      "\u001b[2K   \u001b[90m━━━━━━━━━━━━━━━━━━━━━━━━━━━━━━━━━━━━━━━━\u001b[0m \u001b[32m101.8/101.8 kB\u001b[0m \u001b[31m2.9 MB/s\u001b[0m eta \u001b[36m0:00:00\u001b[0m\n",
      "Installing collected packages: asyncio\n",
      "Successfully installed asyncio-3.4.3\n",
      "\n",
      "\u001b[1m[\u001b[0m\u001b[34;49mnotice\u001b[0m\u001b[1;39;49m]\u001b[0m\u001b[39;49m A new release of pip is available: \u001b[0m\u001b[31;49m23.2.1\u001b[0m\u001b[39;49m -> \u001b[0m\u001b[32;49m25.0.1\u001b[0m\n",
      "\u001b[1m[\u001b[0m\u001b[34;49mnotice\u001b[0m\u001b[1;39;49m]\u001b[0m\u001b[39;49m To update, run: \u001b[0m\u001b[32;49mpip install --upgrade pip\u001b[0m\n",
      "\u001b[31mERROR: Could not find a version that satisfies the requirement json (from versions: none)\u001b[0m\u001b[31m\n",
      "\u001b[0m\u001b[31mERROR: No matching distribution found for json\u001b[0m\u001b[31m\n",
      "\u001b[0m\n",
      "\u001b[1m[\u001b[0m\u001b[34;49mnotice\u001b[0m\u001b[1;39;49m]\u001b[0m\u001b[39;49m A new release of pip is available: \u001b[0m\u001b[31;49m23.2.1\u001b[0m\u001b[39;49m -> \u001b[0m\u001b[32;49m25.0.1\u001b[0m\n",
      "\u001b[1m[\u001b[0m\u001b[34;49mnotice\u001b[0m\u001b[1;39;49m]\u001b[0m\u001b[39;49m To update, run: \u001b[0m\u001b[32;49mpip install --upgrade pip\u001b[0m\n"
     ]
    }
   ],
   "source": [
    "!pip install websockets\n",
    "!pip install sys\n",
    "!pip install time\n",
    "!pip install threading\n",
    "!pip install asyncio\n",
    "!pip install json"
   ]
  },
  {
   "cell_type": "code",
   "execution_count": 14,
   "id": "ae7b939b-1a94-4141-8606-d89a7d4d0bd7",
   "metadata": {},
   "outputs": [],
   "source": [
    "import sys\n",
    "import time\n",
    "import threading\n",
    "import nest_asyncio\n",
    "import asyncio\n",
    "import websockets\n",
    "import json"
   ]
  },
  {
   "cell_type": "code",
   "execution_count": 15,
   "id": "eb84b3a7-ccc8-4674-b8a3-a3354178e3d0",
   "metadata": {},
   "outputs": [],
   "source": [
    "nest_asyncio.apply()"
   ]
  },
  {
   "cell_type": "code",
   "execution_count": 18,
   "id": "f385f54f-1d49-404c-8dbd-aec3fe6a00b0",
   "metadata": {},
   "outputs": [],
   "source": [
    "uri = \"ws://localhost:3000/ws\""
   ]
  },
  {
   "cell_type": "code",
   "execution_count": 19,
   "id": "e3e21f28-ee0f-442c-9b7a-24332206ccf4",
   "metadata": {},
   "outputs": [],
   "source": [
    "async def run():\n",
    "    async with websockets.connect(uri) as websocket:\n",
    "        # Construire un message JSON\n",
    "        message = {\n",
    "            \"action\": \"Register\",\n",
    "            \"API_KEY\": \"VDCAjPZ8jhDmXfsSufW2oZyU8SFZi48dRhA8zyKUjSRU3T1aBZ7E8FFIjdEM2X1d\",\n",
    "            \"checksum\": \"azerty\",\n",
    "            \"name\": \"tom\",\n",
    "            \"prompt\": \"I am a pirate. I always finish my sentences by 'gomu gomu'\",\n",
    "        }\n",
    "        json_message = json.dumps(message)  # Convertir en JSON\n",
    "\n",
    "        # Envoyer le message\n",
    "        await websocket.send(json_message)\n",
    "        print(f\"\\nMessage envoyé: {json_message}\")\n",
    "\n",
    "        # Recevoir la réponse\n",
    "        response = await websocket.recv()\n",
    "        print(f\"\\nRéponse du serveur: {response}\")\n",
    "\n",
    "        "
   ]
  },
  {
   "cell_type": "code",
   "execution_count": 20,
   "id": "3392c41a-3a5e-4898-8b37-35d6f9ca2b7a",
   "metadata": {},
   "outputs": [
    {
     "name": "stdout",
     "output_type": "stream",
     "text": [
      "\n",
      "Message envoyé: {\"action\": \"Register\", \"API_KEY\": \"VDCAjPZ8jhDmXfsSufW2oZyU8SFZi48dRhA8zyKUjSRU3T1aBZ7E8FFIjdEM2X1d\", \"checksum\": \"azerty\", \"name\": \"tom\", \"prompt\": \"I am a pirate. I always finish my sentences by 'gomu gomu'\"}\n",
      "\n",
      "Réponse du serveur: {\"message\":\"Error saving in database\",\"route\":\"Register\",\"status\":\"error\"}\n",
      "\n"
     ]
    }
   ],
   "source": [
    "await run()"
   ]
  },
  {
   "cell_type": "code",
   "execution_count": 1,
   "id": "acd42200-e4c3-40c9-8fcf-bbfe803cf246",
   "metadata": {},
   "outputs": [
    {
     "data": {
      "text/plain": [
       "900"
      ]
     },
     "execution_count": 1,
     "metadata": {},
     "output_type": "execute_result"
    }
   ],
   "source": [
    "3*300"
   ]
  },
  {
   "cell_type": "code",
   "execution_count": 6,
   "id": "35a6e040-795c-49a9-8b46-45cb55d74ff0",
   "metadata": {},
   "outputs": [
    {
     "name": "stdout",
     "output_type": "stream",
     "text": [
      "351.6666666666667\n"
     ]
    }
   ],
   "source": [
    "i = 1200/3\n",
    "print((1200-145)/3)"
   ]
  },
  {
   "cell_type": "code",
   "execution_count": 5,
   "id": "a935cb56-429f-4658-99a7-02c86a5ad9ce",
   "metadata": {},
   "outputs": [
    {
     "name": "stdout",
     "output_type": "stream",
     "text": [
      "255.0\n"
     ]
    }
   ],
   "source": [
    "i -= 145\n",
    "print(i)"
   ]
  },
  {
   "cell_type": "code",
   "execution_count": 7,
   "id": "6db5f2b7-4bce-442d-91eb-d1fdb0fe8fe1",
   "metadata": {},
   "outputs": [
    {
     "data": {
      "text/plain": [
       "373.3333333333333"
      ]
     },
     "execution_count": 7,
     "metadata": {},
     "output_type": "execute_result"
    }
   ],
   "source": [
    "1120/3"
   ]
  },
  {
   "cell_type": "code",
   "execution_count": 8,
   "id": "4e877413-70c7-4b5f-a08f-aa665e0ab444",
   "metadata": {},
   "outputs": [
    {
     "data": {
      "text/plain": [
       "443.3333333333333"
      ]
     },
     "execution_count": 8,
     "metadata": {},
     "output_type": "execute_result"
    }
   ],
   "source": [
    "1330/3"
   ]
  },
  {
   "cell_type": "code",
   "execution_count": 9,
   "id": "a016af8b-a677-4eab-883e-0544b6916a62",
   "metadata": {},
   "outputs": [
    {
     "data": {
      "text/plain": [
       "42.22222222222222"
      ]
     },
     "execution_count": 9,
     "metadata": {},
     "output_type": "execute_result"
    }
   ],
   "source": [
    "(1520/12)/3"
   ]
  },
  {
   "cell_type": "code",
   "execution_count": 10,
   "id": "5d8aa619-74e8-4443-84d7-0d7e89daebbf",
   "metadata": {},
   "outputs": [
    {
     "data": {
      "text/plain": [
       "293.3333333333333"
      ]
     },
     "execution_count": 10,
     "metadata": {},
     "output_type": "execute_result"
    }
   ],
   "source": [
    "880/3"
   ]
  },
  {
   "cell_type": "code",
   "execution_count": 11,
   "id": "9a2eb1b0-2e80-4553-a78a-c26c525bd119",
   "metadata": {},
   "outputs": [
    {
     "data": {
      "text/plain": [
       "351.6666666666667"
      ]
     },
     "execution_count": 11,
     "metadata": {},
     "output_type": "execute_result"
    }
   ],
   "source": [
    "1055/3"
   ]
  },
  {
   "cell_type": "code",
   "execution_count": null,
   "id": "bbc98967-307d-4806-b3ca-0b24c3e0267c",
   "metadata": {},
   "outputs": [],
   "source": []
  }
 ],
 "metadata": {
  "kernelspec": {
   "display_name": "Python 3 (ipykernel)",
   "language": "python",
   "name": "python3"
  },
  "language_info": {
   "codemirror_mode": {
    "name": "ipython",
    "version": 3
   },
   "file_extension": ".py",
   "mimetype": "text/x-python",
   "name": "python",
   "nbconvert_exporter": "python",
   "pygments_lexer": "ipython3",
   "version": "3.9.6"
  }
 },
 "nbformat": 4,
 "nbformat_minor": 5
}
