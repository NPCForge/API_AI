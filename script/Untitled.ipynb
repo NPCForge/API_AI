{
 "cells": [
  {
   "cell_type": "code",
   "execution_count": 4,
   "id": "6a485dc9-ff95-4ba9-8330-004836843eb7",
   "metadata": {},
   "outputs": [
    {
     "name": "stdout",
     "output_type": "stream",
     "text": [
      "Avion : 41.41\n",
      "Bus : 26\n",
      "Transport : 67.41\n"
     ]
    }
   ],
   "source": [
    "avionA = 14.41\n",
    "AvionB = 27\n",
    "BusA = 8\n",
    "BusB = 18\n",
    "avion = avionA + AvionB\n",
    "Bus = BusA + BusB\n",
    "\n",
    "print(f\"Avion : {avion}\")\n",
    "print(f\"Bus : {Bus}\")\n",
    "print(f\"Transport : {avion + Bus}\")"
   ]
  },
  {
   "cell_type": "code",
   "execution_count": 5,
   "id": "d0227cf6-6f88-413e-8a05-abb61417acd1",
   "metadata": {},
   "outputs": [
    {
     "name": "stdout",
     "output_type": "stream",
     "text": [
      "Auberge par personne pour 2 jours 54.5\n"
     ]
    }
   ],
   "source": [
    "auberge = 218\n",
    "auberge_par_personne = auberge / 4\n",
    "print(f\"Auberge par personne pour 2 jours {auberge_par_personne}\")"
   ]
  },
  {
   "cell_type": "code",
   "execution_count": 6,
   "id": "437c2a3c-0e0c-4ccd-8015-0cc7db28f8e4",
   "metadata": {},
   "outputs": [
    {
     "name": "stdout",
     "output_type": "stream",
     "text": [
      "Total (transport + logement): 121.91\n"
     ]
    }
   ],
   "source": [
    "print(f\"Total (transport + logement): {auberge_par_personne + avion + Bus}\")"
   ]
  },
  {
   "cell_type": "code",
   "execution_count": null,
   "id": "5f091425-e9df-4742-a1f5-a49b423ff1a3",
   "metadata": {},
   "outputs": [],
   "source": []
  }
 ],
 "metadata": {
  "kernelspec": {
   "display_name": "Python 3 (ipykernel)",
   "language": "python",
   "name": "python3"
  },
  "language_info": {
   "codemirror_mode": {
    "name": "ipython",
    "version": 3
   },
   "file_extension": ".py",
   "mimetype": "text/x-python",
   "name": "python",
   "nbconvert_exporter": "python",
   "pygments_lexer": "ipython3",
   "version": "3.9.6"
  }
 },
 "nbformat": 4,
 "nbformat_minor": 5
}
